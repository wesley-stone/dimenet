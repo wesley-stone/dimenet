{
 "cells": [
  {
   "cell_type": "code",
   "execution_count": 9,
   "id": "cb049b64-757d-47b1-afda-fe319e7d0daf",
   "metadata": {},
   "outputs": [],
   "source": [
    "import numpy as np"
   ]
  },
  {
   "cell_type": "code",
   "execution_count": 10,
   "id": "20e9c5d4-b6eb-4c01-ad07-ecd5f2ffa13d",
   "metadata": {},
   "outputs": [],
   "source": [
    "d = np.load('data/qm9_eV.npz')"
   ]
  },
  {
   "cell_type": "code",
   "execution_count": 11,
   "id": "3e9853bf-385d-438f-8f8b-3d4b1e683572",
   "metadata": {},
   "outputs": [
    {
     "data": {
      "text/plain": [
       "<numpy.lib.npyio.NpzFile at 0x7fe57d625190>"
      ]
     },
     "execution_count": 11,
     "metadata": {},
     "output_type": "execute_result"
    }
   ],
   "source": [
    "d"
   ]
  },
  {
   "cell_type": "code",
   "execution_count": 12,
   "id": "fc8e2d85-5b00-42e2-b45c-21414f3792d3",
   "metadata": {},
   "outputs": [
    {
     "data": {
      "text/plain": [
       "['R',\n",
       " 'N',\n",
       " 'Z',\n",
       " 'id',\n",
       " 'A',\n",
       " 'B',\n",
       " 'C',\n",
       " 'mu',\n",
       " 'alpha',\n",
       " 'homo',\n",
       " 'lumo',\n",
       " 'gap',\n",
       " 'r2',\n",
       " 'zpve',\n",
       " 'U0',\n",
       " 'U',\n",
       " 'H',\n",
       " 'G',\n",
       " 'Cv',\n",
       " 'meta']"
      ]
     },
     "execution_count": 12,
     "metadata": {},
     "output_type": "execute_result"
    }
   ],
   "source": [
    "list(d.keys())"
   ]
  },
  {
   "cell_type": "code",
   "execution_count": 38,
   "id": "f9d26374-523f-4a68-bc81-3f584019e4f8",
   "metadata": {},
   "outputs": [
    {
     "data": {
      "text/plain": [
       "18.02485649425595"
      ]
     },
     "execution_count": 38,
     "metadata": {},
     "output_type": "execute_result"
    }
   ],
   "source": [
    "d['N'].mean()"
   ]
  },
  {
   "cell_type": "code",
   "execution_count": 18,
   "id": "4bbbbc9a-df0a-47e9-9619-674fbe2a706a",
   "metadata": {},
   "outputs": [
    {
     "data": {
      "text/plain": [
       "array([1, 6, 7, 8, 9], dtype=int32)"
      ]
     },
     "execution_count": 18,
     "metadata": {},
     "output_type": "execute_result"
    }
   ],
   "source": [
    "np.unique(d['Z'])"
   ]
  },
  {
   "cell_type": "code",
   "execution_count": 15,
   "id": "b8887fea-453d-4ac2-a33e-5a7806007c77",
   "metadata": {},
   "outputs": [
    {
     "data": {
      "text/plain": [
       "(2358210, 3)"
      ]
     },
     "execution_count": 15,
     "metadata": {},
     "output_type": "execute_result"
    }
   ],
   "source": [
    "d['R'].shape"
   ]
  },
  {
   "cell_type": "code",
   "execution_count": 16,
   "id": "93153e53-f3f5-48e8-b2f5-7a807d54b6cd",
   "metadata": {},
   "outputs": [
    {
     "data": {
      "text/plain": [
       "array([     0,      1,      2, ..., 133882, 133883, 133884])"
      ]
     },
     "execution_count": 16,
     "metadata": {},
     "output_type": "execute_result"
    }
   ],
   "source": [
    "d['id']"
   ]
  },
  {
   "cell_type": "code",
   "execution_count": 54,
   "id": "33d39efc-7d00-4e9f-8bef-12e77b962d5c",
   "metadata": {},
   "outputs": [],
   "source": [
    "import os\n",
    "import pandas as pd\n",
    "import numpy as np\n",
    "from tqdm import tqdm\n",
    "\n",
    "\n",
    "def _transform_df(df:pd.DataFrame):\n",
    "    d = df.to_numpy()\n",
    "    f2index = np.array(d[:, 0])\n",
    "    # 0: HOMO\n",
    "    # 1: LUMO\n",
    "    labels = d[:, 1:].astype(np.float)\n",
    "    \n",
    "    return labels, f2index\n",
    "\n",
    "def load_data(pth, sheet):\n",
    "    df = pd.read_excel(os.path.join(pth, 'labels.xlsx'), sheet)\n",
    "    labels, f2index = _transform_df(df)\n",
    "\n",
    "    element_mapping = {'H': 1, 'B': 5, 'C': 6, 'N': 7, 'O': 8, 'F': 9, 'Si': 14, 'P': 15, 'S': 16, 'Cl': 17, 'Se': 34, 'Br': 35}\n",
    "\n",
    "    xyz_pth = os.path.join(pth, 'xyz')\n",
    "    R = []\n",
    "    N = []\n",
    "    Z = []\n",
    "    for index in tqdm(range(f2index.shape[0])):  \n",
    "        with open(os.path.join(xyz_pth, f'{f2index[index]}.xyz'), 'r') as fp:\n",
    "            txt = fp.readlines()\n",
    "            z = np.zeros(len(txt[2:]), dtype=np.int)\n",
    "            atm_xyz = np.zeros((len(txt[2:]), 3))\n",
    "            for i, l in enumerate(txt[2:]):\n",
    "                valid_str = [s for s in l.split(' ') if s != '']\n",
    "                assert(len(valid_str) == 4)\n",
    "                z[i] = element_mapping[valid_str[0]]\n",
    "                for j in range(3):\n",
    "                    # axis x, y, z\n",
    "                    atm_xyz[i, j] = float(valid_str[j+1])\n",
    "            R.append(atm_xyz)\n",
    "            N.append(len(txt[2:]))\n",
    "            Z.append(z)\n",
    "\n",
    "    Rnp = np.vstack(R)\n",
    "    Nnp = np.array(N)\n",
    "    Znp = np.hstack(Z)\n",
    "    homo, lumo = labels[:, 0], labels[:, 1]\n",
    "    dataset = {'id': np.arange(Nnp.shape[0]), 'N': Nnp, 'Z': Znp, 'R': Rnp, 'homo': homo, 'lumo': lumo}\n",
    "    return dataset"
   ]
  },
  {
   "cell_type": "code",
   "execution_count": 55,
   "id": "8ba7f2fd-d748-452b-a6b7-93f8be6aaae0",
   "metadata": {},
   "outputs": [
    {
     "name": "stderr",
     "output_type": "stream",
     "text": [
      "100%|██████████████████████████████████████████████████████████████| 13199/13199 [00:01<00:00, 7756.64it/s]\n",
      "100%|██████████████████████████████████████████████████████████████| 98526/98526 [00:13<00:00, 7495.03it/s]\n"
     ]
    }
   ],
   "source": [
    "pth = '/mnt/exp/eri/data/homolumo'\n",
    "test = load_data(pth, 'TestFinal')\n",
    "\n",
    "train = load_data(pth, 'Dataset')\n"
   ]
  },
  {
   "cell_type": "code",
   "execution_count": 59,
   "id": "150c0e32-b4dc-431b-a742-46a6e9796d9e",
   "metadata": {},
   "outputs": [
    {
     "name": "stdout",
     "output_type": "stream",
     "text": [
      "1 0.3967708320095566\n",
      "5 1.9062384831424978e-05\n",
      "6 0.44768646189429273\n",
      "7 0.04975917853829633\n",
      "8 0.06512346071242486\n",
      "9 0.009734524520581022\n",
      "14 0.00027322751591709135\n",
      "15 0.00028593577247137465\n",
      "16 0.024853113734660075\n",
      "17 0.004130183380142078\n",
      "34 0.00037277552559231066\n",
      "35 0.0009912440112340988\n"
     ]
    }
   ],
   "source": [
    "a1 = np.unique(test['Z'])\n",
    "for a in a1:\n",
    "    print(a, np.sum(test['Z'] == a)/test['Z'].shape[0])"
   ]
  },
  {
   "cell_type": "code",
   "execution_count": 60,
   "id": "ed0e9f98-4739-4f4c-b80a-64175badcc6d",
   "metadata": {},
   "outputs": [
    {
     "name": "stdout",
     "output_type": "stream",
     "text": [
      "1 0.3900602083558872\n",
      "5 2.1651690913784633e-05\n",
      "6 0.45395212755621805\n",
      "7 0.04746772371332051\n",
      "8 0.06331509594752519\n",
      "9 0.011128691543904355\n",
      "14 0.0004088838553333944\n",
      "15 0.0002595427051844696\n",
      "16 0.02899661067761465\n",
      "17 0.0031797451207359355\n",
      "34 0.0004405286343612335\n",
      "35 0.0007691901990012464\n"
     ]
    }
   ],
   "source": [
    "a1 = np.unique(train['Z'])\n",
    "for a in a1:\n",
    "    print(a, np.sum(train['Z'] == a)/train['Z'].shape[0])"
   ]
  },
  {
   "cell_type": "code",
   "execution_count": 62,
   "id": "1e40bd07-46ff-4a67-97dc-89a502390846",
   "metadata": {},
   "outputs": [],
   "source": [
    "import pickle\n",
    "\n",
    "with open('data/dye_train.npz', 'wb') as fp:\n",
    "    pickle.dump(train, fp)\n",
    "    \n",
    "with open('data/dye_test.npz', 'wb') as fp:\n",
    "    pickle.dump(test, fp)"
   ]
  },
  {
   "cell_type": "code",
   "execution_count": 44,
   "id": "144e8cb9-c9eb-4168-bd0c-0ae14ad87dfc",
   "metadata": {},
   "outputs": [],
   "source": [
    "homo, lumo = labels[:, 0], labels[:, 1]\n",
    "dataset['homo'] = homo\n",
    "dataset['lumo'] = lumo"
   ]
  },
  {
   "cell_type": "code",
   "execution_count": null,
   "id": "4b723bd9-e4c9-400d-a1b3-7502da9ba4d0",
   "metadata": {},
   "outputs": [],
   "source": [
    "pd.read_excel(os.path.join(pth, 'labels.xlsx'), 'Dataset')"
   ]
  },
  {
   "cell_type": "code",
   "execution_count": 42,
   "id": "32b0edc1-6783-4c28-86bc-81a5260b82f5",
   "metadata": {},
   "outputs": [],
   "source": [
    "np.save('data/dye', dataset)"
   ]
  },
  {
   "cell_type": "code",
   "execution_count": 39,
   "id": "0f7c87be-c748-46e2-99a2-f4568253b51f",
   "metadata": {},
   "outputs": [
    {
     "data": {
      "text/plain": [
       "36.563851166189636"
      ]
     },
     "execution_count": 39,
     "metadata": {},
     "output_type": "execute_result"
    }
   ],
   "source": [
    "Nnp.mean()"
   ]
  },
  {
   "cell_type": "code",
   "execution_count": 61,
   "id": "c4f61338-6bec-415d-8989-acb01aa4845e",
   "metadata": {},
   "outputs": [
    {
     "data": {
      "text/plain": [
       "(13199,)"
      ]
     },
     "execution_count": 61,
     "metadata": {},
     "output_type": "execute_result"
    }
   ],
   "source": [
    "test['homo'].shape"
   ]
  },
  {
   "cell_type": "code",
   "execution_count": 63,
   "id": "2181ae37-4c7f-41d0-a9ef-beadca9bca90",
   "metadata": {},
   "outputs": [
    {
     "data": {
      "text/plain": [
       "numpy.int64"
      ]
     },
     "execution_count": 63,
     "metadata": {},
     "output_type": "execute_result"
    }
   ],
   "source": [
    "type(test['id'][0])"
   ]
  },
  {
   "cell_type": "code",
   "execution_count": 64,
   "id": "b98e7e4e-5afc-4b0b-b58d-9d5e221ef4a4",
   "metadata": {},
   "outputs": [
    {
     "ename": "ImportError",
     "evalue": "cannot import name 'iterable' from 'collections' (/home/wenshi/anaconda3/envs/tf/lib/python3.8/collections/__init__.py)",
     "output_type": "error",
     "traceback": [
      "\u001b[0;31m---------------------------------------------------------------------------\u001b[0m",
      "\u001b[0;31mImportError\u001b[0m                               Traceback (most recent call last)",
      "\u001b[0;32m/tmp/ipykernel_12346/2688811899.py\u001b[0m in \u001b[0;36m<module>\u001b[0;34m\u001b[0m\n\u001b[0;32m----> 1\u001b[0;31m \u001b[0;32mfrom\u001b[0m \u001b[0mcollections\u001b[0m \u001b[0;32mimport\u001b[0m \u001b[0miterable\u001b[0m\u001b[0;34m\u001b[0m\u001b[0;34m\u001b[0m\u001b[0m\n\u001b[0m",
      "\u001b[0;31mImportError\u001b[0m: cannot import name 'iterable' from 'collections' (/home/wenshi/anaconda3/envs/tf/lib/python3.8/collections/__init__.py)"
     ]
    }
   ],
   "source": [
    "from collections import iterable"
   ]
  },
  {
   "cell_type": "code",
   "execution_count": 68,
   "id": "d911caf0-b814-4d1a-9b4b-3384c6c2278c",
   "metadata": {},
   "outputs": [
    {
     "data": {
      "text/plain": [
       "numpy.int64"
      ]
     },
     "execution_count": 68,
     "metadata": {},
     "output_type": "execute_result"
    }
   ],
   "source": [
    "type(train['id'][0])"
   ]
  },
  {
   "cell_type": "code",
   "execution_count": 74,
   "id": "0bfaa2a9-d3d8-42de-be32-87db00b6f75a",
   "metadata": {},
   "outputs": [
    {
     "name": "stdout",
     "output_type": "stream",
     "text": [
      "id <class 'numpy.ndarray'> int64 (98526,)\n",
      "N <class 'numpy.ndarray'> int64 (98526,)\n",
      "Z <class 'numpy.ndarray'> int64 (3602490,)\n",
      "R <class 'numpy.ndarray'> float64 (3602490, 3)\n",
      "homo <class 'numpy.ndarray'> float64 (98526,)\n",
      "lumo <class 'numpy.ndarray'> float64 (98526,)\n"
     ]
    }
   ],
   "source": [
    "for k, v in train.items():\n",
    "    print(k, type(v), v.dtype, v.shape)\n"
   ]
  },
  {
   "cell_type": "code",
   "execution_count": 76,
   "id": "e886f239-b7ee-4543-a36e-1d1932be88b2",
   "metadata": {},
   "outputs": [
    {
     "name": "stdout",
     "output_type": "stream",
     "text": [
      "R <class 'numpy.ndarray'> float64 (2358210, 3)\n",
      "N <class 'numpy.ndarray'> int64 (130831,)\n",
      "Z <class 'numpy.ndarray'> int32 (2358210,)\n",
      "id <class 'numpy.ndarray'> int64 (130831,)\n",
      "A <class 'numpy.ndarray'> float64 (130831,)\n",
      "B <class 'numpy.ndarray'> float64 (130831,)\n",
      "C <class 'numpy.ndarray'> float64 (130831,)\n",
      "mu <class 'numpy.ndarray'> float64 (130831,)\n",
      "alpha <class 'numpy.ndarray'> float64 (130831,)\n",
      "homo <class 'numpy.ndarray'> float64 (130831,)\n",
      "lumo <class 'numpy.ndarray'> float64 (130831,)\n",
      "gap <class 'numpy.ndarray'> float64 (130831,)\n",
      "r2 <class 'numpy.ndarray'> float64 (130831,)\n",
      "zpve <class 'numpy.ndarray'> float64 (130831,)\n",
      "U0 <class 'numpy.ndarray'> float64 (130831,)\n",
      "U <class 'numpy.ndarray'> float64 (130831,)\n",
      "H <class 'numpy.ndarray'> float64 (130831,)\n",
      "G <class 'numpy.ndarray'> float64 (130831,)\n",
      "Cv <class 'numpy.ndarray'> float64 (130831,)\n"
     ]
    },
    {
     "ename": "ValueError",
     "evalue": "Object arrays cannot be loaded when allow_pickle=False",
     "output_type": "error",
     "traceback": [
      "\u001b[0;31m---------------------------------------------------------------------------\u001b[0m",
      "\u001b[0;31mValueError\u001b[0m                                Traceback (most recent call last)",
      "\u001b[0;32m/tmp/ipykernel_12346/1428589819.py\u001b[0m in \u001b[0;36m<module>\u001b[0;34m\u001b[0m\n\u001b[0;32m----> 1\u001b[0;31m \u001b[0;32mfor\u001b[0m \u001b[0mk\u001b[0m\u001b[0;34m,\u001b[0m \u001b[0mv\u001b[0m \u001b[0;32min\u001b[0m \u001b[0md\u001b[0m\u001b[0;34m.\u001b[0m\u001b[0mitems\u001b[0m\u001b[0;34m(\u001b[0m\u001b[0;34m)\u001b[0m\u001b[0;34m:\u001b[0m\u001b[0;34m\u001b[0m\u001b[0;34m\u001b[0m\u001b[0m\n\u001b[0m\u001b[1;32m      2\u001b[0m     \u001b[0mprint\u001b[0m\u001b[0;34m(\u001b[0m\u001b[0mk\u001b[0m\u001b[0;34m,\u001b[0m \u001b[0mtype\u001b[0m\u001b[0;34m(\u001b[0m\u001b[0mv\u001b[0m\u001b[0;34m)\u001b[0m\u001b[0;34m,\u001b[0m \u001b[0mv\u001b[0m\u001b[0;34m.\u001b[0m\u001b[0mdtype\u001b[0m\u001b[0;34m,\u001b[0m \u001b[0mv\u001b[0m\u001b[0;34m.\u001b[0m\u001b[0mshape\u001b[0m\u001b[0;34m)\u001b[0m\u001b[0;34m\u001b[0m\u001b[0;34m\u001b[0m\u001b[0m\n",
      "\u001b[0;32m~/anaconda3/envs/tf/lib/python3.8/_collections_abc.py\u001b[0m in \u001b[0;36m__iter__\u001b[0;34m(self)\u001b[0m\n\u001b[1;32m    742\u001b[0m     \u001b[0;32mdef\u001b[0m \u001b[0m__iter__\u001b[0m\u001b[0;34m(\u001b[0m\u001b[0mself\u001b[0m\u001b[0;34m)\u001b[0m\u001b[0;34m:\u001b[0m\u001b[0;34m\u001b[0m\u001b[0;34m\u001b[0m\u001b[0m\n\u001b[1;32m    743\u001b[0m         \u001b[0;32mfor\u001b[0m \u001b[0mkey\u001b[0m \u001b[0;32min\u001b[0m \u001b[0mself\u001b[0m\u001b[0;34m.\u001b[0m\u001b[0m_mapping\u001b[0m\u001b[0;34m:\u001b[0m\u001b[0;34m\u001b[0m\u001b[0;34m\u001b[0m\u001b[0m\n\u001b[0;32m--> 744\u001b[0;31m             \u001b[0;32myield\u001b[0m \u001b[0;34m(\u001b[0m\u001b[0mkey\u001b[0m\u001b[0;34m,\u001b[0m \u001b[0mself\u001b[0m\u001b[0;34m.\u001b[0m\u001b[0m_mapping\u001b[0m\u001b[0;34m[\u001b[0m\u001b[0mkey\u001b[0m\u001b[0;34m]\u001b[0m\u001b[0;34m)\u001b[0m\u001b[0;34m\u001b[0m\u001b[0;34m\u001b[0m\u001b[0m\n\u001b[0m\u001b[1;32m    745\u001b[0m \u001b[0;34m\u001b[0m\u001b[0m\n\u001b[1;32m    746\u001b[0m \u001b[0mItemsView\u001b[0m\u001b[0;34m.\u001b[0m\u001b[0mregister\u001b[0m\u001b[0;34m(\u001b[0m\u001b[0mdict_items\u001b[0m\u001b[0;34m)\u001b[0m\u001b[0;34m\u001b[0m\u001b[0;34m\u001b[0m\u001b[0m\n",
      "\u001b[0;32m~/anaconda3/envs/tf/lib/python3.8/site-packages/numpy/lib/npyio.py\u001b[0m in \u001b[0;36m__getitem__\u001b[0;34m(self, key)\u001b[0m\n\u001b[1;32m    258\u001b[0m             \u001b[0;32mif\u001b[0m \u001b[0mmagic\u001b[0m \u001b[0;34m==\u001b[0m \u001b[0mformat\u001b[0m\u001b[0;34m.\u001b[0m\u001b[0mMAGIC_PREFIX\u001b[0m\u001b[0;34m:\u001b[0m\u001b[0;34m\u001b[0m\u001b[0;34m\u001b[0m\u001b[0m\n\u001b[1;32m    259\u001b[0m                 \u001b[0mbytes\u001b[0m \u001b[0;34m=\u001b[0m \u001b[0mself\u001b[0m\u001b[0;34m.\u001b[0m\u001b[0mzip\u001b[0m\u001b[0;34m.\u001b[0m\u001b[0mopen\u001b[0m\u001b[0;34m(\u001b[0m\u001b[0mkey\u001b[0m\u001b[0;34m)\u001b[0m\u001b[0;34m\u001b[0m\u001b[0;34m\u001b[0m\u001b[0m\n\u001b[0;32m--> 260\u001b[0;31m                 return format.read_array(bytes,\n\u001b[0m\u001b[1;32m    261\u001b[0m                                          \u001b[0mallow_pickle\u001b[0m\u001b[0;34m=\u001b[0m\u001b[0mself\u001b[0m\u001b[0;34m.\u001b[0m\u001b[0mallow_pickle\u001b[0m\u001b[0;34m,\u001b[0m\u001b[0;34m\u001b[0m\u001b[0;34m\u001b[0m\u001b[0m\n\u001b[1;32m    262\u001b[0m                                          pickle_kwargs=self.pickle_kwargs)\n",
      "\u001b[0;32m~/anaconda3/envs/tf/lib/python3.8/site-packages/numpy/lib/format.py\u001b[0m in \u001b[0;36mread_array\u001b[0;34m(fp, allow_pickle, pickle_kwargs)\u001b[0m\n\u001b[1;32m    737\u001b[0m         \u001b[0;31m# The array contained Python objects. We need to unpickle the data.\u001b[0m\u001b[0;34m\u001b[0m\u001b[0;34m\u001b[0m\u001b[0;34m\u001b[0m\u001b[0m\n\u001b[1;32m    738\u001b[0m         \u001b[0;32mif\u001b[0m \u001b[0;32mnot\u001b[0m \u001b[0mallow_pickle\u001b[0m\u001b[0;34m:\u001b[0m\u001b[0;34m\u001b[0m\u001b[0;34m\u001b[0m\u001b[0m\n\u001b[0;32m--> 739\u001b[0;31m             raise ValueError(\"Object arrays cannot be loaded when \"\n\u001b[0m\u001b[1;32m    740\u001b[0m                              \"allow_pickle=False\")\n\u001b[1;32m    741\u001b[0m         \u001b[0;32mif\u001b[0m \u001b[0mpickle_kwargs\u001b[0m \u001b[0;32mis\u001b[0m \u001b[0;32mNone\u001b[0m\u001b[0;34m:\u001b[0m\u001b[0;34m\u001b[0m\u001b[0;34m\u001b[0m\u001b[0m\n",
      "\u001b[0;31mValueError\u001b[0m: Object arrays cannot be loaded when allow_pickle=False"
     ]
    }
   ],
   "source": [
    "for k, v in d.items():\n",
    "    print(k, type(v), v.dtype, v.shape)\n"
   ]
  },
  {
   "cell_type": "code",
   "execution_count": 79,
   "id": "dad04a94-300f-40e6-81e1-1ae3093c7748",
   "metadata": {},
   "outputs": [
    {
     "data": {
      "text/plain": [
       "159"
      ]
     },
     "execution_count": 79,
     "metadata": {},
     "output_type": "execute_result"
    }
   ],
   "source": [
    "train['N'].max()"
   ]
  },
  {
   "cell_type": "code",
   "execution_count": 80,
   "id": "6cb4a331-f311-47c7-88e5-e2459d1bc61b",
   "metadata": {},
   "outputs": [
    {
     "data": {
      "text/plain": [
       "29"
      ]
     },
     "execution_count": 80,
     "metadata": {},
     "output_type": "execute_result"
    }
   ],
   "source": [
    "d['N'].max()"
   ]
  },
  {
   "cell_type": "code",
   "execution_count": 90,
   "id": "ab01274b-6603-4a0a-9fee-d828264d9333",
   "metadata": {},
   "outputs": [],
   "source": [
    "t = train['id'].shape[0]"
   ]
  },
  {
   "cell_type": "code",
   "execution_count": 92,
   "id": "a09c5014-608d-444e-adca-4c416df2ad06",
   "metadata": {},
   "outputs": [
    {
     "data": {
      "text/plain": [
       "78822"
      ]
     },
     "execution_count": 92,
     "metadata": {},
     "output_type": "execute_result"
    }
   ],
   "source": [
    "t - 9852*2"
   ]
  },
  {
   "cell_type": "code",
   "execution_count": null,
   "id": "96dcb76b-25b6-43aa-a68c-87659e4499fe",
   "metadata": {},
   "outputs": [],
   "source": []
  }
 ],
 "metadata": {
  "kernelspec": {
   "display_name": "Python 3 (ipykernel)",
   "language": "python",
   "name": "python3"
  },
  "language_info": {
   "codemirror_mode": {
    "name": "ipython",
    "version": 3
   },
   "file_extension": ".py",
   "mimetype": "text/x-python",
   "name": "python",
   "nbconvert_exporter": "python",
   "pygments_lexer": "ipython3",
   "version": "3.8.12"
  }
 },
 "nbformat": 4,
 "nbformat_minor": 5
}
